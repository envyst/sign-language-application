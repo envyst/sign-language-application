{
  "cells": [
    {
      "cell_type": "markdown",
      "metadata": {
        "tags": [],
        "id": "FnfnRmc2zo6t"
      },
      "source": [
        "# Machine Learning with PyTorch and Scikit-Learn  \n",
        "# -- Code Examples"
      ]
    },
    {
      "cell_type": "markdown",
      "metadata": {
        "id": "S2uFNW4Uzo6v"
      },
      "source": [
        "## Package version checks"
      ]
    },
    {
      "cell_type": "markdown",
      "metadata": {
        "id": "yIfxzyggzo6w"
      },
      "source": [
        "Add folder to path in order to load from the check_packages.py script:"
      ]
    },
    {
      "cell_type": "code",
      "execution_count": 46,
      "metadata": {
        "id": "o8P9J-1Xzo6x"
      },
      "outputs": [],
      "source": [
        "import sys\n",
        "sys.path.insert(0, '..')"
      ]
    },
    {
      "cell_type": "markdown",
      "metadata": {
        "id": "zoYvC2R3zo6y"
      },
      "source": [
        "Check recommended package versions:"
      ]
    },
    {
      "cell_type": "markdown",
      "metadata": {
        "id": "h2r2kwpkzo60"
      },
      "source": [
        "# Chapter 12: Parallelizing Neural Network Training with PyTorch (Part 1/2)\n"
      ]
    },
    {
      "cell_type": "markdown",
      "metadata": {
        "id": "idDFlU0Czo61"
      },
      "source": [
        "- [PyTorch and training performance](#PyTorch-and-training-performance)\n",
        "  - [Performance challenges](#Performance-challenges)\n",
        "  - [What is PyTorch?](#What-is-PyTorch?)\n",
        "  - [How we will learn PyTorch](#How-we-will-learn-PyTorch)\n",
        "- [First steps with PyTorch](#First-steps-with-PyTorch)\n",
        "  - [Installing PyTorch](#Installing-PyTorch)\n",
        "  - [Creating tensors in PyTorch](#Creating-tensors-in-PyTorch)\n",
        "  - [Manipulating the data type and shape of a tensor](#Manipulating-the-data-type-and-shape-of-a-tensor)\n",
        "  - [Applying mathematical operations to tensors](#Applying-mathematical-operations-to-tensors)\n",
        "  - [Split, stack, and concatenate tensors](#Split,-stack,-and-concatenate-tensors)"
      ]
    },
    {
      "cell_type": "markdown",
      "metadata": {
        "id": "OEdzbO-Azo62"
      },
      "source": [
        "Note that the optional watermark extension is a small IPython notebook plugin that I developed to make the code reproducible. You can just skip the following line(s)."
      ]
    },
    {
      "cell_type": "code",
      "execution_count": 47,
      "metadata": {
        "id": "sXOGotsOzo62"
      },
      "outputs": [],
      "source": [
        "from IPython.display import Image as IPythonImage\n",
        "%matplotlib inline"
      ]
    },
    {
      "cell_type": "markdown",
      "metadata": {
        "id": "19hN0_ipzo63"
      },
      "source": [
        "## PyTorch and training performance"
      ]
    },
    {
      "cell_type": "markdown",
      "metadata": {
        "id": "HEzhSRCuzo63"
      },
      "source": [
        "### Performance challenges"
      ]
    },
    {
      "cell_type": "markdown",
      "metadata": {
        "id": "c5O63TYjzo64"
      },
      "source": [
        "### How we will learn PyTorch"
      ]
    },
    {
      "cell_type": "markdown",
      "metadata": {
        "id": "gLAIPInCzo65"
      },
      "source": [
        "## First steps with PyTorch"
      ]
    },
    {
      "cell_type": "markdown",
      "metadata": {
        "id": "9mBz6mWlzo65"
      },
      "source": [
        "### Installing PyTorch"
      ]
    },
    {
      "cell_type": "code",
      "execution_count": null,
      "metadata": {
        "id": "VmLLzsnUzo65"
      },
      "outputs": [],
      "source": [
        "#! pip install torch"
      ]
    },
    {
      "cell_type": "code",
      "execution_count": null,
      "metadata": {
        "id": "mb-2EmNjzo65"
      },
      "outputs": [],
      "source": [
        "import torch\n",
        "import numpy as np\n",
        "\n",
        "print('PyTorch version:', torch.__version__)\n",
        "\n",
        "np.set_printoptions(precision=3)"
      ]
    },
    {
      "cell_type": "code",
      "execution_count": null,
      "metadata": {
        "id": "s6eTM5XMzo66"
      },
      "outputs": [],
      "source": [
        "! python -c 'import torch; print(torch.__version__)'"
      ]
    },
    {
      "cell_type": "markdown",
      "metadata": {
        "id": "KINhiDI3zo67"
      },
      "source": [
        "### Creating tensors in PyTorch"
      ]
    },
    {
      "cell_type": "code",
      "execution_count": null,
      "metadata": {
        "id": "ncTkDxpFzo67"
      },
      "outputs": [],
      "source": [
        "a = [1, 2, 3]\n",
        "b = np.array([4, 5, 6], dtype=np.int32)\n",
        "\n",
        "t_a = torch.tensor(a)\n",
        "t_b = torch.from_numpy(b)\n",
        "\n",
        "print(t_a)\n",
        "print(t_b)"
      ]
    },
    {
      "cell_type": "code",
      "execution_count": null,
      "metadata": {
        "id": "E9Icw3Tezo67"
      },
      "outputs": [],
      "source": [
        "torch.is_tensor(a), torch.is_tensor(t_a)"
      ]
    },
    {
      "cell_type": "code",
      "execution_count": null,
      "metadata": {
        "id": "KK6W2nfTzo68"
      },
      "outputs": [],
      "source": [
        "t_ones = torch.ones(2, 3)\n",
        "\n",
        "t_ones.shape"
      ]
    },
    {
      "cell_type": "code",
      "execution_count": null,
      "metadata": {
        "id": "WRBlxjUpzo68"
      },
      "outputs": [],
      "source": [
        "print(t_ones)"
      ]
    },
    {
      "cell_type": "code",
      "execution_count": 49,
      "metadata": {
        "id": "uOuexJ0Fzo68",
        "outputId": "98cafbc7-108b-491f-dcd9-36997d390ac4",
        "colab": {
          "base_uri": "https://localhost:8080/"
        }
      },
      "outputs": [
        {
          "output_type": "stream",
          "name": "stdout",
          "text": [
            "tensor([[0.6826, 0.3051, 0.4635],\n",
            "        [0.4550, 0.5725, 0.4980]])\n"
          ]
        }
      ],
      "source": [
        "rand_tensor = torch.rand(2,3)\n",
        "\n",
        "print(rand_tensor)"
      ]
    },
    {
      "cell_type": "markdown",
      "metadata": {
        "id": "VIakSU8Tzo69"
      },
      "source": [
        "### Manipulating the data type and shape of a tensor"
      ]
    },
    {
      "cell_type": "code",
      "execution_count": 50,
      "metadata": {
        "id": "mIDhA8TEzo69",
        "outputId": "99e4a1f9-1b7c-4f07-f362-704a680f8bd9",
        "colab": {
          "base_uri": "https://localhost:8080/"
        }
      },
      "outputs": [
        {
          "output_type": "stream",
          "name": "stdout",
          "text": [
            "torch.int64\n"
          ]
        }
      ],
      "source": [
        "t_a_new = t_a.to(torch.int64)\n",
        "\n",
        "print(t_a_new.dtype)"
      ]
    },
    {
      "cell_type": "code",
      "execution_count": 51,
      "metadata": {
        "id": "GTm88rCnzo69",
        "outputId": "c7fb3343-8bed-42b0-da1d-180f9ac517de",
        "colab": {
          "base_uri": "https://localhost:8080/"
        }
      },
      "outputs": [
        {
          "output_type": "stream",
          "name": "stdout",
          "text": [
            "torch.Size([3, 5])  -->  torch.Size([5, 3])\n"
          ]
        }
      ],
      "source": [
        "t = torch.rand(3, 5)\n",
        "\n",
        "t_tr = torch.transpose(t, 0, 1)\n",
        "print(t.shape, ' --> ', t_tr.shape)"
      ]
    },
    {
      "cell_type": "code",
      "execution_count": 52,
      "metadata": {
        "id": "JZLG-47izo69",
        "outputId": "73643c5e-7d2c-422d-e8ca-62a74868d3e1",
        "colab": {
          "base_uri": "https://localhost:8080/"
        }
      },
      "outputs": [
        {
          "output_type": "stream",
          "name": "stdout",
          "text": [
            "torch.Size([5, 6])\n"
          ]
        }
      ],
      "source": [
        "t = torch.zeros(30)\n",
        "\n",
        "t_reshape = t.reshape(5, 6)\n",
        "\n",
        "print(t_reshape.shape)"
      ]
    },
    {
      "cell_type": "code",
      "execution_count": 53,
      "metadata": {
        "id": "ogxcRkrwzo69",
        "outputId": "ec5a223d-6904-40f9-f46f-cc94d879030e",
        "colab": {
          "base_uri": "https://localhost:8080/"
        }
      },
      "outputs": [
        {
          "output_type": "stream",
          "name": "stdout",
          "text": [
            "torch.Size([1, 2, 1, 4, 1])  -->  torch.Size([1, 2, 4, 1])\n"
          ]
        }
      ],
      "source": [
        "t = torch.zeros(1, 2, 1, 4, 1)\n",
        "\n",
        "t_sqz = torch.squeeze(t, 2)\n",
        "\n",
        "print(t.shape, ' --> ', t_sqz.shape)"
      ]
    },
    {
      "cell_type": "markdown",
      "metadata": {
        "id": "4WWYSdGtzo6-"
      },
      "source": [
        "### Applying mathematical operations to tensors"
      ]
    },
    {
      "cell_type": "code",
      "execution_count": 54,
      "metadata": {
        "id": "dknA8cn4zo6-"
      },
      "outputs": [],
      "source": [
        "torch.manual_seed(1)\n",
        "\n",
        "t1 = 2 * torch.rand(5, 2) - 1\n",
        "t2 = torch.normal(mean=0, std=1, size=(5, 2))"
      ]
    },
    {
      "cell_type": "code",
      "execution_count": 55,
      "metadata": {
        "id": "SwpyPjgIzo6-",
        "outputId": "b2470ca6-12db-4397-9985-32bdf3f57a6b",
        "colab": {
          "base_uri": "https://localhost:8080/"
        }
      },
      "outputs": [
        {
          "output_type": "stream",
          "name": "stdout",
          "text": [
            "tensor([[ 0.4426, -0.3114],\n",
            "        [ 0.0660, -0.5970],\n",
            "        [ 1.1249,  0.0150],\n",
            "        [ 0.1569,  0.7107],\n",
            "        [-0.0451, -0.0352]])\n"
          ]
        }
      ],
      "source": [
        "t3 = torch.multiply(t1, t2)\n",
        "print(t3)"
      ]
    },
    {
      "cell_type": "code",
      "execution_count": 56,
      "metadata": {
        "id": "c8rbqw8Xzo6_",
        "outputId": "06db5c11-a879-415a-e456-ffc0199d0004",
        "colab": {
          "base_uri": "https://localhost:8080/"
        }
      },
      "outputs": [
        {
          "output_type": "stream",
          "name": "stdout",
          "text": [
            "tensor([-0.1373,  0.2028])\n"
          ]
        }
      ],
      "source": [
        "t4 = torch.mean(t1, axis=0)\n",
        "print(t4)"
      ]
    },
    {
      "cell_type": "code",
      "execution_count": 57,
      "metadata": {
        "id": "03ayyp3gzo6_",
        "outputId": "aa7194fd-af12-4af5-d644-9b5dcebb4f13",
        "colab": {
          "base_uri": "https://localhost:8080/"
        }
      },
      "outputs": [
        {
          "output_type": "stream",
          "name": "stdout",
          "text": [
            "tensor([[ 0.1312,  0.3860, -0.6267, -1.0096, -0.2943],\n",
            "        [ 0.1647, -0.5310,  0.2434,  0.8035,  0.1980],\n",
            "        [-0.3855, -0.4422,  1.1399,  1.5558,  0.4781],\n",
            "        [ 0.1822, -0.5771,  0.2585,  0.8676,  0.2132],\n",
            "        [ 0.0330,  0.1084, -0.1692, -0.2771, -0.0804]])\n"
          ]
        }
      ],
      "source": [
        "t5 = torch.matmul(t1, torch.transpose(t2, 0, 1))\n",
        "\n",
        "print(t5)"
      ]
    },
    {
      "cell_type": "code",
      "execution_count": 58,
      "metadata": {
        "id": "kDTLmAK-zo6_",
        "outputId": "4ab87890-3c72-47dd-d5f1-c399c757ea69",
        "colab": {
          "base_uri": "https://localhost:8080/"
        }
      },
      "outputs": [
        {
          "output_type": "stream",
          "name": "stdout",
          "text": [
            "tensor([[ 1.7453,  0.3392],\n",
            "        [-1.6038, -0.2180]])\n"
          ]
        }
      ],
      "source": [
        "t6 = torch.matmul(torch.transpose(t1, 0, 1), t2)\n",
        "\n",
        "print(t6)"
      ]
    },
    {
      "cell_type": "code",
      "execution_count": 59,
      "metadata": {
        "id": "k1SmWxUIzo7A",
        "outputId": "dabf3c2d-4a96-4bd2-b07e-fb5f0fedaf68",
        "colab": {
          "base_uri": "https://localhost:8080/"
        }
      },
      "outputs": [
        {
          "output_type": "stream",
          "name": "stdout",
          "text": [
            "tensor([0.6785, 0.5078, 1.1162, 0.5488, 0.1853])\n"
          ]
        }
      ],
      "source": [
        "norm_t1 = torch.linalg.norm(t1, ord=2, dim=1)\n",
        "\n",
        "print(norm_t1)"
      ]
    },
    {
      "cell_type": "code",
      "execution_count": 60,
      "metadata": {
        "id": "UDQg0RUOzo7N",
        "outputId": "c17df67d-2804-4c1b-d99a-92fe8eefc5da",
        "colab": {
          "base_uri": "https://localhost:8080/"
        }
      },
      "outputs": [
        {
          "output_type": "execute_result",
          "data": {
            "text/plain": [
              "array([0.678, 0.508, 1.116, 0.549, 0.185], dtype=float32)"
            ]
          },
          "metadata": {},
          "execution_count": 60
        }
      ],
      "source": [
        "np.sqrt(np.sum(np.square(t1.numpy()), axis=1))"
      ]
    },
    {
      "cell_type": "markdown",
      "metadata": {
        "id": "dY58DW0pzo7N"
      },
      "source": [
        "### Split, stack, and concatenate tensors"
      ]
    },
    {
      "cell_type": "code",
      "execution_count": 61,
      "metadata": {
        "id": "svVkRw7Nzo7N",
        "outputId": "fc711d29-f0a1-493b-d122-75a6d0d014dd",
        "colab": {
          "base_uri": "https://localhost:8080/"
        }
      },
      "outputs": [
        {
          "output_type": "stream",
          "name": "stdout",
          "text": [
            "tensor([0.7576, 0.2793, 0.4031, 0.7347, 0.0293, 0.7999])\n"
          ]
        },
        {
          "output_type": "execute_result",
          "data": {
            "text/plain": [
              "[array([0.758, 0.279], dtype=float32),\n",
              " array([0.403, 0.735], dtype=float32),\n",
              " array([0.029, 0.8  ], dtype=float32)]"
            ]
          },
          "metadata": {},
          "execution_count": 61
        }
      ],
      "source": [
        "torch.manual_seed(1)\n",
        "\n",
        "t = torch.rand(6)\n",
        "\n",
        "print(t)\n",
        "\n",
        "t_splits = torch.chunk(t, 3)\n",
        "\n",
        "[item.numpy() for item in t_splits]"
      ]
    },
    {
      "cell_type": "code",
      "execution_count": 62,
      "metadata": {
        "id": "EvB2z3aizo7O",
        "outputId": "bc71ffc5-b60e-41a6-e0fa-9f7392bea913",
        "colab": {
          "base_uri": "https://localhost:8080/"
        }
      },
      "outputs": [
        {
          "output_type": "stream",
          "name": "stdout",
          "text": [
            "tensor([0.7576, 0.2793, 0.4031, 0.7347, 0.0293])\n"
          ]
        },
        {
          "output_type": "execute_result",
          "data": {
            "text/plain": [
              "[array([0.758, 0.279, 0.403], dtype=float32),\n",
              " array([0.735, 0.029], dtype=float32)]"
            ]
          },
          "metadata": {},
          "execution_count": 62
        }
      ],
      "source": [
        "torch.manual_seed(1)\n",
        "t = torch.rand(5)\n",
        "\n",
        "print(t)\n",
        "\n",
        "t_splits = torch.split(t, split_size_or_sections=[3, 2])\n",
        "\n",
        "[item.numpy() for item in t_splits]"
      ]
    },
    {
      "cell_type": "code",
      "execution_count": 63,
      "metadata": {
        "id": "VWRfb0qEzo7O",
        "outputId": "aaa0be4d-0780-490e-ab56-3abaaeadbfc0",
        "colab": {
          "base_uri": "https://localhost:8080/"
        }
      },
      "outputs": [
        {
          "output_type": "stream",
          "name": "stdout",
          "text": [
            "tensor([1., 1., 1., 0., 0.])\n"
          ]
        }
      ],
      "source": [
        "A = torch.ones(3)\n",
        "B = torch.zeros(2)\n",
        "\n",
        "C = torch.cat([A, B], axis=0)\n",
        "print(C)"
      ]
    },
    {
      "cell_type": "code",
      "execution_count": 64,
      "metadata": {
        "id": "Rofmp3VAzo7O",
        "outputId": "b1c8ceff-be97-4cc4-fb4e-b41c6f9f4209",
        "colab": {
          "base_uri": "https://localhost:8080/"
        }
      },
      "outputs": [
        {
          "output_type": "stream",
          "name": "stdout",
          "text": [
            "tensor([[1., 0.],\n",
            "        [1., 0.],\n",
            "        [1., 0.]])\n"
          ]
        }
      ],
      "source": [
        "A = torch.ones(3)\n",
        "B = torch.zeros(3)\n",
        "\n",
        "S = torch.stack([A, B], axis=1)\n",
        "print(S)"
      ]
    },
    {
      "cell_type": "markdown",
      "metadata": {
        "id": "mAmephjuzo7O"
      },
      "source": [
        "## Building input pipelines in PyTorch"
      ]
    },
    {
      "cell_type": "markdown",
      "metadata": {
        "id": "foHBJ3nfzo7P"
      },
      "source": [
        "### Creating a PyTorch DataLoader from existing tensors"
      ]
    },
    {
      "cell_type": "code",
      "execution_count": 65,
      "metadata": {
        "id": "QDRYHP-Yzo7P"
      },
      "outputs": [],
      "source": [
        "from torch.utils.data import DataLoader\n",
        "\n",
        "t = torch.arange(6, dtype=torch.float32)\n",
        "data_loader = DataLoader(t)"
      ]
    },
    {
      "cell_type": "code",
      "execution_count": 66,
      "metadata": {
        "id": "-08Fm2wgzo7P",
        "outputId": "31745f6f-997c-44c6-c0f1-3186b86376df",
        "colab": {
          "base_uri": "https://localhost:8080/"
        }
      },
      "outputs": [
        {
          "output_type": "stream",
          "name": "stdout",
          "text": [
            "tensor([0.])\n",
            "tensor([1.])\n",
            "tensor([2.])\n",
            "tensor([3.])\n",
            "tensor([4.])\n",
            "tensor([5.])\n"
          ]
        }
      ],
      "source": [
        "for item in data_loader:\n",
        "    print(item)"
      ]
    },
    {
      "cell_type": "code",
      "execution_count": 67,
      "metadata": {
        "id": "VKz2c_xCzo7P",
        "outputId": "fd537a3c-1bef-4dde-d0fd-125f89006896",
        "colab": {
          "base_uri": "https://localhost:8080/"
        }
      },
      "outputs": [
        {
          "output_type": "stream",
          "name": "stdout",
          "text": [
            "batch 1: tensor([0., 1., 2.])\n",
            "batch 2: tensor([3., 4., 5.])\n"
          ]
        }
      ],
      "source": [
        "data_loader = DataLoader(t, batch_size=3, drop_last=False)\n",
        "\n",
        "for i, batch in enumerate(data_loader, 1):\n",
        "    print(f'batch {i}:', batch)"
      ]
    },
    {
      "cell_type": "markdown",
      "metadata": {
        "id": "f1wvTJtmzo7Q"
      },
      "source": [
        "### Combining two tensors into a joint dataset"
      ]
    },
    {
      "cell_type": "code",
      "execution_count": 68,
      "metadata": {
        "id": "f7oIRTsozo7Q"
      },
      "outputs": [],
      "source": [
        "from torch.utils.data import Dataset\n",
        "\n",
        "class JointDataset(Dataset):\n",
        "    def __init__(self, x, y):\n",
        "        self.x = x\n",
        "        self.y = y\n",
        "    def __len__(self):\n",
        "        return len(self.x)\n",
        "    def __getitem__(self, idx):\n",
        "        return self.x[idx], self.y[idx]"
      ]
    },
    {
      "cell_type": "code",
      "execution_count": 69,
      "metadata": {
        "id": "MCmc2ibBzo7Q",
        "outputId": "9c19391b-fbc1-4f82-e9c2-1840d90c2a95",
        "colab": {
          "base_uri": "https://localhost:8080/"
        }
      },
      "outputs": [
        {
          "output_type": "stream",
          "name": "stdout",
          "text": [
            "  x:  tensor([0.7576, 0.2793, 0.4031])   y:  tensor(0)\n",
            "  x:  tensor([0.7347, 0.0293, 0.7999])   y:  tensor(1)\n",
            "  x:  tensor([0.3971, 0.7544, 0.5695])   y:  tensor(2)\n",
            "  x:  tensor([0.4388, 0.6387, 0.5247])   y:  tensor(3)\n"
          ]
        }
      ],
      "source": [
        "torch.manual_seed(1)\n",
        "\n",
        "t_x = torch.rand([4, 3], dtype=torch.float32)\n",
        "t_y = torch.arange(4)\n",
        "joint_dataset = JointDataset(t_x, t_y)\n",
        "\n",
        "# Or use TensorDataset directly\n",
        "from torch.utils.data import TensorDataset\n",
        "joint_dataset = TensorDataset(t_x, t_y)\n",
        "\n",
        "for example in joint_dataset:\n",
        "    print('  x: ', example[0],\n",
        "          '  y: ', example[1])"
      ]
    },
    {
      "cell_type": "markdown",
      "metadata": {
        "id": "Ko7k2cmEzo7Q"
      },
      "source": [
        "### Shuffle, batch, and repeat"
      ]
    },
    {
      "cell_type": "code",
      "execution_count": 70,
      "metadata": {
        "id": "2NKgr2GUzo7R",
        "outputId": "e5172c83-abc1-4951-ac85-6b57656038e1",
        "colab": {
          "base_uri": "https://localhost:8080/"
        }
      },
      "outputs": [
        {
          "output_type": "stream",
          "name": "stdout",
          "text": [
            "batch 1: x: tensor([[0.3971, 0.7544, 0.5695],\n",
            "        [0.7576, 0.2793, 0.4031]]) \n",
            "         y: tensor([2, 0])\n",
            "batch 2: x: tensor([[0.7347, 0.0293, 0.7999],\n",
            "        [0.4388, 0.6387, 0.5247]]) \n",
            "         y: tensor([1, 3])\n",
            "epoch 1\n",
            "batch 1: x: tensor([[0.7576, 0.2793, 0.4031],\n",
            "        [0.3971, 0.7544, 0.5695]]) \n",
            "         y: tensor([0, 2])\n",
            "batch 2: x: tensor([[0.7347, 0.0293, 0.7999],\n",
            "        [0.4388, 0.6387, 0.5247]]) \n",
            "         y: tensor([1, 3])\n",
            "epoch 2\n",
            "batch 1: x: tensor([[0.4388, 0.6387, 0.5247],\n",
            "        [0.3971, 0.7544, 0.5695]]) \n",
            "         y: tensor([3, 2])\n",
            "batch 2: x: tensor([[0.7576, 0.2793, 0.4031],\n",
            "        [0.7347, 0.0293, 0.7999]]) \n",
            "         y: tensor([0, 1])\n"
          ]
        }
      ],
      "source": [
        "torch.manual_seed(1)\n",
        "data_loader = DataLoader(dataset=joint_dataset, batch_size=2, shuffle=True)\n",
        "\n",
        "for i, batch in enumerate(data_loader, 1):\n",
        "        print(f'batch {i}:', 'x:', batch[0],\n",
        "              '\\n         y:', batch[1])\n",
        "\n",
        "for epoch in range(2):\n",
        "    print(f'epoch {epoch+1}')\n",
        "    for i, batch in enumerate(data_loader, 1):\n",
        "        print(f'batch {i}:', 'x:', batch[0],\n",
        "              '\\n         y:', batch[1])"
      ]
    },
    {
      "cell_type": "markdown",
      "metadata": {
        "id": "ZpH9S5sbzo7R"
      },
      "source": [
        "### Creating a dataset from files on your local storage disk"
      ]
    },
    {
      "cell_type": "code",
      "execution_count": 71,
      "metadata": {
        "id": "c8zSVOwLzo7R",
        "outputId": "b11d282b-324c-40b4-d40d-21b868a2c341",
        "colab": {
          "base_uri": "https://localhost:8080/"
        }
      },
      "outputs": [
        {
          "output_type": "stream",
          "name": "stdout",
          "text": [
            "[]\n"
          ]
        }
      ],
      "source": [
        "import pathlib\n",
        "\n",
        "imgdir_path = pathlib.Path('cat_dog_images')\n",
        "\n",
        "file_list = sorted([str(path) for path in imgdir_path.glob('*.jpg')])\n",
        "\n",
        "print(file_list)"
      ]
    },
    {
      "cell_type": "code",
      "execution_count": 72,
      "metadata": {
        "id": "8tRQmTRxzo7S",
        "outputId": "1aa31278-0896-4866-df27-762f71306530",
        "colab": {
          "base_uri": "https://localhost:8080/",
          "height": 34
        }
      },
      "outputs": [
        {
          "output_type": "display_data",
          "data": {
            "text/plain": [
              "<Figure size 1000x500 with 0 Axes>"
            ]
          },
          "metadata": {}
        }
      ],
      "source": [
        "import matplotlib.pyplot as plt\n",
        "import os\n",
        "from PIL import Image\n",
        "\n",
        "\n",
        "fig = plt.figure(figsize=(10, 5))\n",
        "for i, file in enumerate(file_list):\n",
        "    img = Image.open(file)\n",
        "    print('Image shape: ', np.array(img).shape)\n",
        "    ax = fig.add_subplot(2, 3, i+1)\n",
        "    ax.set_xticks([]); ax.set_yticks([])\n",
        "    ax.imshow(img)\n",
        "    ax.set_title(os.path.basename(file), size=15)\n",
        "\n",
        "#plt.savefig('figures/12_03.pdf')\n",
        "plt.tight_layout()\n",
        "plt.show()"
      ]
    },
    {
      "cell_type": "code",
      "execution_count": 73,
      "metadata": {
        "id": "1DO77wfvzo7S",
        "outputId": "79d7f81d-78ab-4f04-bfcf-9977ec421477",
        "colab": {
          "base_uri": "https://localhost:8080/"
        }
      },
      "outputs": [
        {
          "output_type": "stream",
          "name": "stdout",
          "text": [
            "[]\n"
          ]
        }
      ],
      "source": [
        "labels = [1 if 'dog' in os.path.basename(file) else 0\n",
        "          for file in file_list]\n",
        "print(labels)"
      ]
    },
    {
      "cell_type": "code",
      "execution_count": 74,
      "metadata": {
        "id": "2v4ngs_Ezo7S"
      },
      "outputs": [],
      "source": [
        "class ImageDataset(Dataset):\n",
        "    def __init__(self, file_list, labels):\n",
        "        self.file_list = file_list\n",
        "        self.labels = labels\n",
        "\n",
        "    def __getitem__(self, index):\n",
        "        file = self.file_list[index]\n",
        "        label = self.labels[index]\n",
        "        return file, label\n",
        "\n",
        "    def __len__(self):\n",
        "        return len(self.labels)\n",
        "\n",
        "image_dataset = ImageDataset(file_list, labels)\n",
        "for file, label in image_dataset:\n",
        "    print(file, label)"
      ]
    },
    {
      "cell_type": "code",
      "execution_count": 75,
      "metadata": {
        "id": "5YPJ2y8Wzo7S"
      },
      "outputs": [],
      "source": [
        "import torchvision.transforms as transforms\n",
        "\n",
        "class ImageDataset(Dataset):\n",
        "    def __init__(self, file_list, labels, transform=None):\n",
        "        self.file_list = file_list\n",
        "        self.labels = labels\n",
        "        self.transform = transform\n",
        "    def __getitem__(self, index):\n",
        "        img = Image.open(self.file_list[index])\n",
        "        if self.transform is not None:\n",
        "            img = self.transform(img)\n",
        "        label = self.labels[index]\n",
        "        return img, label\n",
        "    def __len__(self):\n",
        "        return len(self.labels)\n",
        "\n",
        "img_height, img_width = 80, 120\n",
        "\n",
        "transform = transforms.Compose([\n",
        "    transforms.ToTensor(),\n",
        "    transforms.Resize((img_height, img_width)),\n",
        "])\n",
        "\n",
        "image_dataset = ImageDataset(file_list, labels, transform)"
      ]
    },
    {
      "cell_type": "code",
      "execution_count": 76,
      "metadata": {
        "id": "9RmQR5ubzo7T",
        "outputId": "48b4e45d-80ba-4361-ab9c-a083d76e25d2",
        "colab": {
          "base_uri": "https://localhost:8080/",
          "height": 356
        }
      },
      "outputs": [
        {
          "output_type": "error",
          "ename": "FileNotFoundError",
          "evalue": "[Errno 2] No such file or directory: 'figures/12_04.pdf'",
          "traceback": [
            "\u001b[0;31m---------------------------------------------------------------------------\u001b[0m",
            "\u001b[0;31mFileNotFoundError\u001b[0m                         Traceback (most recent call last)",
            "\u001b[0;32m<ipython-input-76-7a85c1d21546>\u001b[0m in \u001b[0;36m<cell line: 0>\u001b[0;34m()\u001b[0m\n\u001b[1;32m      7\u001b[0m \u001b[0;34m\u001b[0m\u001b[0m\n\u001b[1;32m      8\u001b[0m \u001b[0mplt\u001b[0m\u001b[0;34m.\u001b[0m\u001b[0mtight_layout\u001b[0m\u001b[0;34m(\u001b[0m\u001b[0;34m)\u001b[0m\u001b[0;34m\u001b[0m\u001b[0;34m\u001b[0m\u001b[0m\n\u001b[0;32m----> 9\u001b[0;31m \u001b[0mplt\u001b[0m\u001b[0;34m.\u001b[0m\u001b[0msavefig\u001b[0m\u001b[0;34m(\u001b[0m\u001b[0;34m'figures/12_04.pdf'\u001b[0m\u001b[0;34m)\u001b[0m\u001b[0;34m\u001b[0m\u001b[0;34m\u001b[0m\u001b[0m\n\u001b[0m\u001b[1;32m     10\u001b[0m \u001b[0mplt\u001b[0m\u001b[0;34m.\u001b[0m\u001b[0mshow\u001b[0m\u001b[0;34m(\u001b[0m\u001b[0;34m)\u001b[0m\u001b[0;34m\u001b[0m\u001b[0;34m\u001b[0m\u001b[0m\n",
            "\u001b[0;32m/usr/local/lib/python3.11/dist-packages/matplotlib/pyplot.py\u001b[0m in \u001b[0;36msavefig\u001b[0;34m(*args, **kwargs)\u001b[0m\n\u001b[1;32m   1241\u001b[0m     \u001b[0;31m# savefig default implementation has no return, so mypy is unhappy\u001b[0m\u001b[0;34m\u001b[0m\u001b[0;34m\u001b[0m\u001b[0m\n\u001b[1;32m   1242\u001b[0m     \u001b[0;31m# presumably this is here because subclasses can return?\u001b[0m\u001b[0;34m\u001b[0m\u001b[0;34m\u001b[0m\u001b[0m\n\u001b[0;32m-> 1243\u001b[0;31m     \u001b[0mres\u001b[0m \u001b[0;34m=\u001b[0m \u001b[0mfig\u001b[0m\u001b[0;34m.\u001b[0m\u001b[0msavefig\u001b[0m\u001b[0;34m(\u001b[0m\u001b[0;34m*\u001b[0m\u001b[0margs\u001b[0m\u001b[0;34m,\u001b[0m \u001b[0;34m**\u001b[0m\u001b[0mkwargs\u001b[0m\u001b[0;34m)\u001b[0m  \u001b[0;31m# type: ignore[func-returns-value]\u001b[0m\u001b[0;34m\u001b[0m\u001b[0;34m\u001b[0m\u001b[0m\n\u001b[0m\u001b[1;32m   1244\u001b[0m     \u001b[0mfig\u001b[0m\u001b[0;34m.\u001b[0m\u001b[0mcanvas\u001b[0m\u001b[0;34m.\u001b[0m\u001b[0mdraw_idle\u001b[0m\u001b[0;34m(\u001b[0m\u001b[0;34m)\u001b[0m  \u001b[0;31m# Need this if 'transparent=True', to reset colors.\u001b[0m\u001b[0;34m\u001b[0m\u001b[0;34m\u001b[0m\u001b[0m\n\u001b[1;32m   1245\u001b[0m     \u001b[0;32mreturn\u001b[0m \u001b[0mres\u001b[0m\u001b[0;34m\u001b[0m\u001b[0;34m\u001b[0m\u001b[0m\n",
            "\u001b[0;32m/usr/local/lib/python3.11/dist-packages/matplotlib/figure.py\u001b[0m in \u001b[0;36msavefig\u001b[0;34m(self, fname, transparent, **kwargs)\u001b[0m\n\u001b[1;32m   3488\u001b[0m                 \u001b[0;32mfor\u001b[0m \u001b[0max\u001b[0m \u001b[0;32min\u001b[0m \u001b[0mself\u001b[0m\u001b[0;34m.\u001b[0m\u001b[0maxes\u001b[0m\u001b[0;34m:\u001b[0m\u001b[0;34m\u001b[0m\u001b[0;34m\u001b[0m\u001b[0m\n\u001b[1;32m   3489\u001b[0m                     \u001b[0m_recursively_make_axes_transparent\u001b[0m\u001b[0;34m(\u001b[0m\u001b[0mstack\u001b[0m\u001b[0;34m,\u001b[0m \u001b[0max\u001b[0m\u001b[0;34m)\u001b[0m\u001b[0;34m\u001b[0m\u001b[0;34m\u001b[0m\u001b[0m\n\u001b[0;32m-> 3490\u001b[0;31m             \u001b[0mself\u001b[0m\u001b[0;34m.\u001b[0m\u001b[0mcanvas\u001b[0m\u001b[0;34m.\u001b[0m\u001b[0mprint_figure\u001b[0m\u001b[0;34m(\u001b[0m\u001b[0mfname\u001b[0m\u001b[0;34m,\u001b[0m \u001b[0;34m**\u001b[0m\u001b[0mkwargs\u001b[0m\u001b[0;34m)\u001b[0m\u001b[0;34m\u001b[0m\u001b[0;34m\u001b[0m\u001b[0m\n\u001b[0m\u001b[1;32m   3491\u001b[0m \u001b[0;34m\u001b[0m\u001b[0m\n\u001b[1;32m   3492\u001b[0m     def ginput(self, n=1, timeout=30, show_clicks=True,\n",
            "\u001b[0;32m/usr/local/lib/python3.11/dist-packages/matplotlib/backend_bases.py\u001b[0m in \u001b[0;36mprint_figure\u001b[0;34m(self, filename, dpi, facecolor, edgecolor, orientation, format, bbox_inches, pad_inches, bbox_extra_artists, backend, **kwargs)\u001b[0m\n\u001b[1;32m   2182\u001b[0m                 \u001b[0;31m# force the figure dpi to 72), so we need to set it again here.\u001b[0m\u001b[0;34m\u001b[0m\u001b[0;34m\u001b[0m\u001b[0m\n\u001b[1;32m   2183\u001b[0m                 \u001b[0;32mwith\u001b[0m \u001b[0mcbook\u001b[0m\u001b[0;34m.\u001b[0m\u001b[0m_setattr_cm\u001b[0m\u001b[0;34m(\u001b[0m\u001b[0mself\u001b[0m\u001b[0;34m.\u001b[0m\u001b[0mfigure\u001b[0m\u001b[0;34m,\u001b[0m \u001b[0mdpi\u001b[0m\u001b[0;34m=\u001b[0m\u001b[0mdpi\u001b[0m\u001b[0;34m)\u001b[0m\u001b[0;34m:\u001b[0m\u001b[0;34m\u001b[0m\u001b[0;34m\u001b[0m\u001b[0m\n\u001b[0;32m-> 2184\u001b[0;31m                     result = print_method(\n\u001b[0m\u001b[1;32m   2185\u001b[0m                         \u001b[0mfilename\u001b[0m\u001b[0;34m,\u001b[0m\u001b[0;34m\u001b[0m\u001b[0;34m\u001b[0m\u001b[0m\n\u001b[1;32m   2186\u001b[0m                         \u001b[0mfacecolor\u001b[0m\u001b[0;34m=\u001b[0m\u001b[0mfacecolor\u001b[0m\u001b[0;34m,\u001b[0m\u001b[0;34m\u001b[0m\u001b[0;34m\u001b[0m\u001b[0m\n",
            "\u001b[0;32m/usr/local/lib/python3.11/dist-packages/matplotlib/backend_bases.py\u001b[0m in \u001b[0;36m<lambda>\u001b[0;34m(*args, **kwargs)\u001b[0m\n\u001b[1;32m   2038\u001b[0m                 \"bbox_inches_restore\"}\n\u001b[1;32m   2039\u001b[0m             \u001b[0mskip\u001b[0m \u001b[0;34m=\u001b[0m \u001b[0moptional_kws\u001b[0m \u001b[0;34m-\u001b[0m \u001b[0;34m{\u001b[0m\u001b[0;34m*\u001b[0m\u001b[0minspect\u001b[0m\u001b[0;34m.\u001b[0m\u001b[0msignature\u001b[0m\u001b[0;34m(\u001b[0m\u001b[0mmeth\u001b[0m\u001b[0;34m)\u001b[0m\u001b[0;34m.\u001b[0m\u001b[0mparameters\u001b[0m\u001b[0;34m}\u001b[0m\u001b[0;34m\u001b[0m\u001b[0;34m\u001b[0m\u001b[0m\n\u001b[0;32m-> 2040\u001b[0;31m             print_method = functools.wraps(meth)(lambda *args, **kwargs: meth(\n\u001b[0m\u001b[1;32m   2041\u001b[0m                 *args, **{k: v for k, v in kwargs.items() if k not in skip}))\n\u001b[1;32m   2042\u001b[0m         \u001b[0;32melse\u001b[0m\u001b[0;34m:\u001b[0m  \u001b[0;31m# Let third-parties do as they see fit.\u001b[0m\u001b[0;34m\u001b[0m\u001b[0;34m\u001b[0m\u001b[0m\n",
            "\u001b[0;32m/usr/local/lib/python3.11/dist-packages/matplotlib/backends/backend_pdf.py\u001b[0m in \u001b[0;36mprint_pdf\u001b[0;34m(self, filename, bbox_inches_restore, metadata)\u001b[0m\n\u001b[1;32m   2777\u001b[0m             \u001b[0mfile\u001b[0m \u001b[0;34m=\u001b[0m \u001b[0mfilename\u001b[0m\u001b[0;34m.\u001b[0m\u001b[0m_ensure_file\u001b[0m\u001b[0;34m(\u001b[0m\u001b[0;34m)\u001b[0m\u001b[0;34m\u001b[0m\u001b[0;34m\u001b[0m\u001b[0m\n\u001b[1;32m   2778\u001b[0m         \u001b[0;32melse\u001b[0m\u001b[0;34m:\u001b[0m\u001b[0;34m\u001b[0m\u001b[0;34m\u001b[0m\u001b[0m\n\u001b[0;32m-> 2779\u001b[0;31m             \u001b[0mfile\u001b[0m \u001b[0;34m=\u001b[0m \u001b[0mPdfFile\u001b[0m\u001b[0;34m(\u001b[0m\u001b[0mfilename\u001b[0m\u001b[0;34m,\u001b[0m \u001b[0mmetadata\u001b[0m\u001b[0;34m=\u001b[0m\u001b[0mmetadata\u001b[0m\u001b[0;34m)\u001b[0m\u001b[0;34m\u001b[0m\u001b[0;34m\u001b[0m\u001b[0m\n\u001b[0m\u001b[1;32m   2780\u001b[0m         \u001b[0;32mtry\u001b[0m\u001b[0;34m:\u001b[0m\u001b[0;34m\u001b[0m\u001b[0;34m\u001b[0m\u001b[0m\n\u001b[1;32m   2781\u001b[0m             \u001b[0mfile\u001b[0m\u001b[0;34m.\u001b[0m\u001b[0mnewPage\u001b[0m\u001b[0;34m(\u001b[0m\u001b[0mwidth\u001b[0m\u001b[0;34m,\u001b[0m \u001b[0mheight\u001b[0m\u001b[0;34m)\u001b[0m\u001b[0;34m\u001b[0m\u001b[0;34m\u001b[0m\u001b[0m\n",
            "\u001b[0;32m/usr/local/lib/python3.11/dist-packages/matplotlib/backends/backend_pdf.py\u001b[0m in \u001b[0;36m__init__\u001b[0;34m(self, filename, metadata)\u001b[0m\n\u001b[1;32m    685\u001b[0m         \u001b[0mself\u001b[0m\u001b[0;34m.\u001b[0m\u001b[0moriginal_file_like\u001b[0m \u001b[0;34m=\u001b[0m \u001b[0;32mNone\u001b[0m\u001b[0;34m\u001b[0m\u001b[0;34m\u001b[0m\u001b[0m\n\u001b[1;32m    686\u001b[0m         \u001b[0mself\u001b[0m\u001b[0;34m.\u001b[0m\u001b[0mtell_base\u001b[0m \u001b[0;34m=\u001b[0m \u001b[0;36m0\u001b[0m\u001b[0;34m\u001b[0m\u001b[0;34m\u001b[0m\u001b[0m\n\u001b[0;32m--> 687\u001b[0;31m         \u001b[0mfh\u001b[0m\u001b[0;34m,\u001b[0m \u001b[0mopened\u001b[0m \u001b[0;34m=\u001b[0m \u001b[0mcbook\u001b[0m\u001b[0;34m.\u001b[0m\u001b[0mto_filehandle\u001b[0m\u001b[0;34m(\u001b[0m\u001b[0mfilename\u001b[0m\u001b[0;34m,\u001b[0m \u001b[0;34m\"wb\"\u001b[0m\u001b[0;34m,\u001b[0m \u001b[0mreturn_opened\u001b[0m\u001b[0;34m=\u001b[0m\u001b[0;32mTrue\u001b[0m\u001b[0;34m)\u001b[0m\u001b[0;34m\u001b[0m\u001b[0;34m\u001b[0m\u001b[0m\n\u001b[0m\u001b[1;32m    688\u001b[0m         \u001b[0;32mif\u001b[0m \u001b[0;32mnot\u001b[0m \u001b[0mopened\u001b[0m\u001b[0;34m:\u001b[0m\u001b[0;34m\u001b[0m\u001b[0;34m\u001b[0m\u001b[0m\n\u001b[1;32m    689\u001b[0m             \u001b[0;32mtry\u001b[0m\u001b[0;34m:\u001b[0m\u001b[0;34m\u001b[0m\u001b[0;34m\u001b[0m\u001b[0m\n",
            "\u001b[0;32m/usr/local/lib/python3.11/dist-packages/matplotlib/cbook.py\u001b[0m in \u001b[0;36mto_filehandle\u001b[0;34m(fname, flag, return_opened, encoding)\u001b[0m\n\u001b[1;32m    544\u001b[0m             \u001b[0mfh\u001b[0m \u001b[0;34m=\u001b[0m \u001b[0mbz2\u001b[0m\u001b[0;34m.\u001b[0m\u001b[0mBZ2File\u001b[0m\u001b[0;34m(\u001b[0m\u001b[0mfname\u001b[0m\u001b[0;34m,\u001b[0m \u001b[0mflag\u001b[0m\u001b[0;34m)\u001b[0m\u001b[0;34m\u001b[0m\u001b[0;34m\u001b[0m\u001b[0m\n\u001b[1;32m    545\u001b[0m         \u001b[0;32melse\u001b[0m\u001b[0;34m:\u001b[0m\u001b[0;34m\u001b[0m\u001b[0;34m\u001b[0m\u001b[0m\n\u001b[0;32m--> 546\u001b[0;31m             \u001b[0mfh\u001b[0m \u001b[0;34m=\u001b[0m \u001b[0mopen\u001b[0m\u001b[0;34m(\u001b[0m\u001b[0mfname\u001b[0m\u001b[0;34m,\u001b[0m \u001b[0mflag\u001b[0m\u001b[0;34m,\u001b[0m \u001b[0mencoding\u001b[0m\u001b[0;34m=\u001b[0m\u001b[0mencoding\u001b[0m\u001b[0;34m)\u001b[0m\u001b[0;34m\u001b[0m\u001b[0;34m\u001b[0m\u001b[0m\n\u001b[0m\u001b[1;32m    547\u001b[0m         \u001b[0mopened\u001b[0m \u001b[0;34m=\u001b[0m \u001b[0;32mTrue\u001b[0m\u001b[0;34m\u001b[0m\u001b[0;34m\u001b[0m\u001b[0m\n\u001b[1;32m    548\u001b[0m     \u001b[0;32melif\u001b[0m \u001b[0mhasattr\u001b[0m\u001b[0;34m(\u001b[0m\u001b[0mfname\u001b[0m\u001b[0;34m,\u001b[0m \u001b[0;34m'seek'\u001b[0m\u001b[0;34m)\u001b[0m\u001b[0;34m:\u001b[0m\u001b[0;34m\u001b[0m\u001b[0;34m\u001b[0m\u001b[0m\n",
            "\u001b[0;31mFileNotFoundError\u001b[0m: [Errno 2] No such file or directory: 'figures/12_04.pdf'"
          ]
        },
        {
          "output_type": "display_data",
          "data": {
            "text/plain": [
              "<Figure size 1000x600 with 0 Axes>"
            ]
          },
          "metadata": {}
        }
      ],
      "source": [
        "fig = plt.figure(figsize=(10, 6))\n",
        "for i, example in enumerate(image_dataset):\n",
        "    ax = fig.add_subplot(2, 3, i+1)\n",
        "    ax.set_xticks([]); ax.set_yticks([])\n",
        "    ax.imshow(example[0].numpy().transpose((1, 2, 0)))\n",
        "    ax.set_title(f'{example[1]}', size=15)\n",
        "\n",
        "plt.tight_layout()\n",
        "plt.savefig('figures/12_04.pdf')\n",
        "plt.show()"
      ]
    },
    {
      "cell_type": "markdown",
      "metadata": {
        "id": "1Uq2wLXCzo7T"
      },
      "source": [
        "### Fetching available datasets from the torchvision.datasets library"
      ]
    },
    {
      "cell_type": "code",
      "execution_count": null,
      "metadata": {
        "id": "YhzWjc34zo7T"
      },
      "outputs": [],
      "source": [
        "# ! pip install torchvision"
      ]
    },
    {
      "cell_type": "code",
      "execution_count": null,
      "metadata": {
        "id": "svxViTjKzo7U"
      },
      "outputs": [],
      "source": [
        "import torchvision"
      ]
    },
    {
      "cell_type": "markdown",
      "metadata": {
        "id": "tQy999xuzo7U"
      },
      "source": [
        "**Fetching CelebA dataset**\n",
        "\n",
        "---"
      ]
    },
    {
      "cell_type": "markdown",
      "metadata": {
        "id": "6dm_MX_Bzo7U"
      },
      "source": [
        "1. Downloading the image files manually\n",
        "\n",
        "    - You can try setting `download=True` below. If this results in a `BadZipfile` error, we recommend downloading the `img_align_celeba.zip` file manually from http://mmlab.ie.cuhk.edu.hk/projects/CelebA.html. In the Google Drive folder, you can find it under the `Img` folder as shown below:"
      ]
    },
    {
      "cell_type": "code",
      "execution_count": null,
      "metadata": {
        "id": "uLMOLJ8ezo7U"
      },
      "outputs": [],
      "source": [
        "IPythonImage(filename='figures/gdrive-download-location-1.png', width=500)"
      ]
    },
    {
      "cell_type": "markdown",
      "metadata": {
        "id": "tJuHGgVnzo7U"
      },
      "source": [
        "- You can also try this direct  link: https://drive.google.com/file/d/0B7EVK8r0v71pZjFTYXZWM3FlRnM/view?usp=sharing&resourcekey=0-dYn9z10tMJOBAkviAcfdyQ\n",
        "- After downloading, please put this file into the `./celeba` subolder and unzip it."
      ]
    },
    {
      "cell_type": "markdown",
      "metadata": {
        "id": "Vn8Njkrizo7V"
      },
      "source": [
        "2. Next,  you need to download the annotation files and put them into the same `./celeba` subfolder. The annotation files can be found under `Anno`:"
      ]
    },
    {
      "cell_type": "code",
      "execution_count": null,
      "metadata": {
        "id": "Gsh-AKfczo7V"
      },
      "outputs": [],
      "source": [
        "IPythonImage(filename='figures/gdrive-download-location-2.png', width=300)"
      ]
    },
    {
      "cell_type": "markdown",
      "metadata": {
        "id": "TwlC5yQTzo7V"
      },
      "source": [
        "- direct links are provided below:\n",
        "  - [identity_CelebA.txt](https://drive.google.com/file/d/1_ee_0u7vcNLOfNLegJRHmolfH5ICW-XS/view?usp=sharing)\n",
        "  - [list_attr_celeba.txt](https://drive.google.com/file/d/0B7EVK8r0v71pblRyaVFSWGxPY0U/view?usp=sharing&resourcekey=0-YW2qIuRcWHy_1C2VaRGL3Q)\n",
        "  - [list_bbox_celeba.txt](https://drive.google.com/file/d/0B7EVK8r0v71pbThiMVRxWXZ4dU0/view?usp=sharing&resourcekey=0-z-17UMo1wt4moRL2lu9D8A)\n",
        "  - [list_landmarks_align_celeba.txt](https://drive.google.com/file/d/0B7EVK8r0v71pd0FJY3Blby1HUTQ/view?usp=sharing&resourcekey=0-aFtzLN5nfdhHXpAsgYA8_g)\n",
        "  - [list_landmarks_celeba.txt](https://drive.google.com/file/d/0B7EVK8r0v71pTzJIdlJWdHczRlU/view?usp=sharing&resourcekey=0-49BtYuqFDomi-1v0vNVwrQ)"
      ]
    },
    {
      "cell_type": "code",
      "execution_count": null,
      "metadata": {
        "id": "AfxsWVVCzo7V"
      },
      "outputs": [],
      "source": [
        "IPythonImage(filename='figures/gdrive-download-location-3.png', width=300)"
      ]
    },
    {
      "cell_type": "markdown",
      "metadata": {
        "id": "trM3Lnqgzo7W"
      },
      "source": [
        "3. Lastly, you need to download the file `list_eval_partition.txt` and place it under `./celeba`:"
      ]
    },
    {
      "cell_type": "markdown",
      "metadata": {
        "id": "xnMmXYlTzo7Z"
      },
      "source": [
        "- [list_eval_partition.txt](https://drive.google.com/file/d/0B7EVK8r0v71pY0NSMzRuSXJEVkk/view?usp=sharing&resourcekey=0-i4TGCi_51OtQ5K9FSp4EDg)"
      ]
    },
    {
      "cell_type": "markdown",
      "metadata": {
        "id": "E7edwVbNzo7a"
      },
      "source": [
        "After completing steps 1-3 above, please ensure you have the following files in your `./celeba` subfolder, and the files are non-empty (that is, they have similar file sizes as shown below):"
      ]
    },
    {
      "cell_type": "code",
      "execution_count": null,
      "metadata": {
        "id": "_gS_tBD_zo7a"
      },
      "outputs": [],
      "source": [
        "IPythonImage(filename='figures/celeba-files.png', width=400)"
      ]
    },
    {
      "cell_type": "markdown",
      "metadata": {
        "id": "NCVp-_Z9zo7a"
      },
      "source": [
        "---"
      ]
    },
    {
      "cell_type": "code",
      "execution_count": null,
      "metadata": {
        "id": "gPr1ZJbUzo7a"
      },
      "outputs": [],
      "source": [
        "image_path = './'\n",
        "celeba_dataset = torchvision.datasets.CelebA(image_path, split='train', target_type='attr', download=False)\n",
        "\n",
        "assert isinstance(celeba_dataset, torch.utils.data.Dataset)"
      ]
    },
    {
      "cell_type": "code",
      "execution_count": null,
      "metadata": {
        "id": "z_sUbBJvzo7b"
      },
      "outputs": [],
      "source": [
        "example = next(iter(celeba_dataset))\n",
        "print(example)"
      ]
    },
    {
      "cell_type": "code",
      "execution_count": null,
      "metadata": {
        "id": "c_rBGTQozo7b"
      },
      "outputs": [],
      "source": [
        "from itertools import islice\n",
        "fig = plt.figure(figsize=(12, 8))\n",
        "for i, (image, attributes) in islice(enumerate(celeba_dataset), 18):\n",
        "    ax = fig.add_subplot(3, 6, i+1)\n",
        "    ax.set_xticks([]); ax.set_yticks([])\n",
        "    ax.imshow(image)\n",
        "    ax.set_title(f'{attributes[31]}', size=15)\n",
        "\n",
        "#plt.savefig('figures/12_05.pdf')\n",
        "plt.show()"
      ]
    },
    {
      "cell_type": "code",
      "execution_count": null,
      "metadata": {
        "id": "Rf9dRaKQzo7b"
      },
      "outputs": [],
      "source": [
        "mnist_dataset = torchvision.datasets.MNIST(image_path, 'train', download=True)\n",
        "\n",
        "assert isinstance(mnist_dataset, torch.utils.data.Dataset)\n",
        "\n",
        "example = next(iter(mnist_dataset))\n",
        "print(example)\n",
        "\n",
        "fig = plt.figure(figsize=(15, 6))\n",
        "for i, (image, label) in islice(enumerate(mnist_dataset), 10):\n",
        "    ax = fig.add_subplot(2, 5, i+1)\n",
        "    ax.set_xticks([]); ax.set_yticks([])\n",
        "    ax.imshow(image, cmap='gray_r')\n",
        "    ax.set_title(f'{label}', size=15)\n",
        "\n",
        "#plt.savefig('figures/12_06.pdf')\n",
        "plt.show()"
      ]
    },
    {
      "cell_type": "markdown",
      "metadata": {
        "id": "z4zbgW-Hzo7c"
      },
      "source": [
        "---\n",
        "\n",
        "Readers may ignore the next cell."
      ]
    },
    {
      "cell_type": "code",
      "execution_count": null,
      "metadata": {
        "id": "8Ef4s5ktzo7c"
      },
      "outputs": [],
      "source": [
        "! python ../.convert_notebook_to_script.py --input ch12_part1.ipynb --output ch12_part1.py"
      ]
    }
  ],
  "metadata": {
    "kernelspec": {
      "display_name": "Python 3 (ipykernel)",
      "language": "python",
      "name": "python3"
    },
    "language_info": {
      "codemirror_mode": {
        "name": "ipython",
        "version": 3
      },
      "file_extension": ".py",
      "mimetype": "text/x-python",
      "name": "python",
      "nbconvert_exporter": "python",
      "pygments_lexer": "ipython3",
      "version": "3.9.7"
    },
    "toc-showmarkdowntxt": false,
    "toc-showtags": false,
    "colab": {
      "provenance": []
    }
  },
  "nbformat": 4,
  "nbformat_minor": 0
}